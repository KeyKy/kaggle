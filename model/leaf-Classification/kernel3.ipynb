{
 "cells": [
  {
   "cell_type": "code",
   "execution_count": 2,
   "metadata": {},
   "outputs": [
    {
     "name": "stdout",
     "output_type": "stream",
     "text": [
      "best params: {'C': 2000, 'tol': 0.0001}\n",
      "-0.111 (+/-0.015) for {'C': 1, 'tol': 0.001}\n",
      "[-0.11846263 -0.09579797 -0.13176928 -0.11477786 -0.09202927]\n",
      "-0.111 (+/-0.015) for {'C': 1, 'tol': 0.0001}\n",
      "[-0.11846378 -0.09579824 -0.1317605  -0.11477505 -0.09204022]\n",
      "-0.111 (+/-0.015) for {'C': 1, 'tol': 0.005}\n",
      "[-0.11843975 -0.09579344 -0.13184225 -0.11477493 -0.09211521]\n",
      "-0.058 (+/-0.017) for {'C': 10, 'tol': 0.001}\n",
      "[-0.06474214 -0.04249528 -0.08486901 -0.06024768 -0.03847028]\n",
      "-0.058 (+/-0.017) for {'C': 10, 'tol': 0.0001}\n",
      "[-0.06473591 -0.04260482 -0.08482931 -0.060182   -0.03845354]\n",
      "-0.058 (+/-0.017) for {'C': 10, 'tol': 0.005}\n",
      "[-0.06520049 -0.04120733 -0.08499392 -0.06012396 -0.03944937]\n",
      "-0.047 (+/-0.019) for {'C': 50, 'tol': 0.001}\n",
      "[-0.05220181 -0.02898761 -0.07823498 -0.04817143 -0.02621757]\n",
      "-0.047 (+/-0.019) for {'C': 50, 'tol': 0.0001}\n",
      "[-0.05199619 -0.02951524 -0.07817944 -0.04810708 -0.02546668]\n",
      "-0.048 (+/-0.019) for {'C': 50, 'tol': 0.005}\n",
      "[-0.05508765 -0.02810997 -0.07862918 -0.04793924 -0.02951117]\n",
      "-0.044 (+/-0.020) for {'C': 100, 'tol': 0.001}\n",
      "[-0.04936861 -0.02417575 -0.07795302 -0.04535812 -0.02359925]\n",
      "-0.044 (+/-0.020) for {'C': 100, 'tol': 0.0001}\n",
      "[-0.04908052 -0.02627911 -0.07812893 -0.04570078 -0.02236745]\n",
      "-0.045 (+/-0.020) for {'C': 100, 'tol': 0.005}\n",
      "[-0.05128241 -0.02315954 -0.07888129 -0.04544267 -0.02625348]\n",
      "-0.042 (+/-0.023) for {'C': 500, 'tol': 0.001}\n",
      "[-0.04804721 -0.0184343  -0.0810629  -0.04339128 -0.01974384]\n",
      "-0.042 (+/-0.023) for {'C': 500, 'tol': 0.0001}\n",
      "[-0.04517516 -0.02069949 -0.08141332 -0.04362181 -0.01807198]\n",
      "-0.043 (+/-0.024) for {'C': 500, 'tol': 0.005}\n",
      "[-0.04449592 -0.01695157 -0.08263366 -0.05058896 -0.02052603]\n",
      "-0.042 (+/-0.024) for {'C': 1000, 'tol': 0.001}\n",
      "[-0.04791954 -0.01768907 -0.0828434  -0.04316691 -0.02029311]\n",
      "-0.042 (+/-0.024) for {'C': 1000, 'tol': 0.0001}\n",
      "[-0.0442689  -0.01841231 -0.08395132 -0.04354643 -0.01770733]\n",
      "-0.062 (+/-0.023) for {'C': 1000, 'tol': 0.005}\n",
      "[-0.04718715 -0.0821056  -0.08332463 -0.07209945 -0.02370449]\n",
      "-0.042 (+/-0.026) for {'C': 2000, 'tol': 0.001}\n",
      "[-0.0425079  -0.0141064  -0.08707688 -0.04828498 -0.01978447]\n",
      "-0.041 (+/-0.026) for {'C': 2000, 'tol': 0.0001}\n",
      "[-0.04369443 -0.01561953 -0.08690267 -0.04410056 -0.01678504]\n",
      "-0.091 (+/-0.027) for {'C': 2000, 'tol': 0.005}\n",
      "[-0.13825406 -0.077903   -0.10142123 -0.05933752 -0.07948516]\n"
     ]
    }
   ],
   "source": [
    "# Copied almost entirely from Xu  Xu Yinan's script - uses slightly different calculation method to achieve higher score.\n",
    "\n",
    "\n",
    "import pandas as pd\n",
    "import numpy as np\n",
    "from sklearn.linear_model import LogisticRegression\n",
    "from sklearn.grid_search import GridSearchCV\n",
    "from sklearn.preprocessing import LabelEncoder\n",
    "from sklearn.preprocessing import StandardScaler\n",
    "\n",
    "\n",
    "np.random.seed(42)\n",
    "\n",
    "train = pd.read_csv('./data/train.csv')\n",
    "x_train = train.drop(['id', 'species'], axis=1).values\n",
    "le = LabelEncoder().fit(train['species'])\n",
    "y_train = le.transform(train['species'])\n",
    "\n",
    "scaler = StandardScaler().fit(x_train)\n",
    "x_train = scaler.transform(x_train)\n",
    "\n",
    "params = {'C':[1, 10, 50, 100, 500, 1000, 2000], 'tol': [0.001, 0.0001, 0.005]}\n",
    "log_reg = LogisticRegression(solver='newton-cg', multi_class='multinomial')\n",
    "clf = GridSearchCV(log_reg, params, scoring='neg_log_loss', refit='True', n_jobs=1, cv=5)\n",
    "clf.fit(x_train, y_train)\n",
    "\n",
    "print(\"best params: \" + str(clf.best_params_))\n",
    "for params, mean_score, scores in clf.grid_scores_:\n",
    "  print(\"%0.3f (+/-%0.03f) for %r\" % (mean_score, scores.std(), params))\n",
    "  print(scores)\n",
    "\n",
    "test = pd.read_csv('./data/test.csv')\n",
    "test_ids = test.pop('id')\n",
    "x_test = test.values\n",
    "scaler = StandardScaler().fit(x_test)\n",
    "x_test = scaler.transform(x_test)\n",
    "\n",
    "y_test = clf.predict_proba(x_test)\n",
    "\n",
    "submission = pd.DataFrame(y_test, index=test_ids, columns=le.classes_)\n",
    "submission.to_csv('submission.csv')"
   ]
  },
  {
   "cell_type": "code",
   "execution_count": null,
   "metadata": {
    "collapsed": true
   },
   "outputs": [],
   "source": []
  }
 ],
 "metadata": {
  "kernelspec": {
   "display_name": "Python 2",
   "language": "python",
   "name": "python2"
  },
  "language_info": {
   "codemirror_mode": {
    "name": "ipython",
    "version": 2
   },
   "file_extension": ".py",
   "mimetype": "text/x-python",
   "name": "python",
   "nbconvert_exporter": "python",
   "pygments_lexer": "ipython2",
   "version": "2.7.12"
  }
 },
 "nbformat": 4,
 "nbformat_minor": 2
}
