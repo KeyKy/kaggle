{
 "cells": [
  {
   "cell_type": "code",
   "execution_count": 1,
   "metadata": {
    "collapsed": true
   },
   "outputs": [],
   "source": [
    "import matplotlib.pyplot as plt        # to plot any graph\n",
    "# matplotlib setup\n",
    "%matplotlib inline\n",
    "from pylab import rcParams\n",
    "rcParams['figure.figsize'] = (6, 6)      # setting default size of plots"
   ]
  },
  {
   "cell_type": "code",
   "execution_count": 9,
   "metadata": {},
   "outputs": [],
   "source": [
    "import numpy as np\n",
    "import pandas as pd\n",
    "import seaborn as sns"
   ]
  },
  {
   "cell_type": "code",
   "execution_count": 19,
   "metadata": {
    "collapsed": true
   },
   "outputs": [],
   "source": [
    "from sklearn.preprocessing import LabelEncoder\n",
    "from sklearn.model_selection import StratifiedShuffleSplit\n",
    "from sklearn.metrics import accuracy_score, log_loss\n",
    "from sklearn import preprocessing\n",
    "\n",
    "from sklearn.svm import SVC, LinearSVC, NuSVC\n",
    "from sklearn.neighbors import KNeighborsClassifier\n",
    "from sklearn.tree import DecisionTreeClassifier\n",
    "from sklearn.ensemble import RandomForestClassifier, AdaBoostClassifier, GradientBoostingClassifier\n",
    "from sklearn.naive_bayes import GaussianNB\n",
    "from sklearn.discriminant_analysis import LinearDiscriminantAnalysis\n",
    "from sklearn.discriminant_analysis import QuadraticDiscriminantAnalysis\n",
    "\n",
    "classifiers = [\n",
    "    KNeighborsClassifier(),\n",
    "    SVC(kernel=\"rbf\", C=0.025, probability=True),\n",
    "    NuSVC(probability=True),\n",
    "    DecisionTreeClassifier(),\n",
    "    RandomForestClassifier(),\n",
    "    AdaBoostClassifier(),\n",
    "    GradientBoostingClassifier(),\n",
    "    GaussianNB(),\n",
    "    LinearDiscriminantAnalysis(),\n",
    "    QuadraticDiscriminantAnalysis(),\n",
    "\n",
    "]"
   ]
  },
  {
   "cell_type": "code",
   "execution_count": 39,
   "metadata": {
    "collapsed": true
   },
   "outputs": [],
   "source": [
    "# Logging for Visual Comparison\n",
    "log_cols=[\"Classifier\", \"Accuracy\", \"Log Loss\"]\n",
    "log = pd.DataFrame(columns=log_cols)"
   ]
  },
  {
   "cell_type": "code",
   "execution_count": 40,
   "metadata": {},
   "outputs": [],
   "source": [
    "def encode(train, test):\n",
    "    le = LabelEncoder().fit(train.species)\n",
    "    labels = le.transform(train.species)\n",
    "    classes = list(le.classes_)\n",
    "    test_ids = test.id\n",
    "\n",
    "    train = train.drop(['species', 'id'], axis=1)\n",
    "    test = test.drop(['id'], axis=1)\n",
    "\n",
    "    return train, labels, test, test_ids, classes\n",
    "\n",
    "def get_data():\n",
    "    train = pd.read_csv('./data/train.csv')\n",
    "    test = pd.read_csv('./data/test.csv')\n",
    "    train, labels, test, test_ids, classes = encode(train, test)\n",
    "    return train, labels, test, test_ids, classes\n",
    "\n",
    "def model_selection():\n",
    "    train, labels, test, test_ids, classes = get_data()\n",
    "    n_samples = len(train)\n",
    "\n",
    "    sss = StratifiedShuffleSplit(n_splits=1, test_size=0.2, random_state=0)\n",
    "    for train_index, val_index in sss.split(np.zeros(n_samples), labels):\n",
    "        X_train, X_val = train.values[train_index], train.values[val_index]\n",
    "        y_train, y_val = labels[train_index], labels[val_index]\n",
    "\n",
    "        X_train = preprocessing.scale(X_train)\n",
    "        X_val = preprocessing.scale(X_val)\n",
    "\n",
    "    for clf in classifiers:\n",
    "        clf.fit(X_train, y_train)\n",
    "        name = clf.__class__.__name__\n",
    "\n",
    "        print(\"=\"*30)\n",
    "        print(name)\n",
    "\n",
    "        print('****Results****')\n",
    "        train_predictions = clf.predict(X_val)\n",
    "        acc = accuracy_score(y_val, train_predictions)\n",
    "        print(\"Accuracy: {:.4%}\".format(acc))\n",
    "\n",
    "        prob_predictions = clf.predict_proba(X_val)\n",
    "        l1 = log_loss(y_val, prob_predictions)\n",
    "        print(\"Log Loss: {}\".format(l1))\n",
    "        \n",
    "        log_entry = pd.DataFrame([[name, acc*100, l1]], columns=log_cols)\n",
    "        global log \n",
    "        log = log.append(log_entry)\n",
    "\n",
    "    print(\"=\"*30)\n"
   ]
  },
  {
   "cell_type": "code",
   "execution_count": 42,
   "metadata": {},
   "outputs": [
    {
     "name": "stdout",
     "output_type": "stream",
     "text": [
      "==============================\n",
      "KNeighborsClassifier\n",
      "****Results****\n",
      "Accuracy: 98.4848%\n",
      "Log Loss: 0.0975752178626\n",
      "==============================\n",
      "SVC\n",
      "****Results****\n",
      "Accuracy: 98.9899%\n",
      "Log Loss: 4.64707157306\n",
      "==============================\n",
      "NuSVC\n",
      "****Results****\n",
      "Accuracy: 99.4949%\n",
      "Log Loss: 2.36630719708\n",
      "==============================\n",
      "DecisionTreeClassifier\n",
      "****Results****\n",
      "Accuracy: 66.1616%\n",
      "Log Loss: 11.6873637296\n",
      "==============================\n",
      "RandomForestClassifier\n",
      "****Results****\n",
      "Accuracy: 89.8990%\n",
      "Log Loss: 0.971776449077\n",
      "==============================\n",
      "AdaBoostClassifier\n",
      "****Results****\n",
      "Accuracy: 4.5455%\n",
      "Log Loss: 4.03577921421\n",
      "==============================\n",
      "GradientBoostingClassifier\n",
      "****Results****\n",
      "Accuracy: 58.0808%\n",
      "Log Loss: 2.96324773778\n",
      "==============================\n",
      "GaussianNB\n",
      "****Results****\n",
      "Accuracy: 3.0303%\n",
      "Log Loss: 33.4921468072\n",
      "==============================\n",
      "LinearDiscriminantAnalysis\n",
      "****Results****\n",
      "Accuracy: 98.9899%\n",
      "Log Loss: 0.880529186439\n",
      "==============================\n",
      "QuadraticDiscriminantAnalysis\n",
      "****Results****\n",
      "Accuracy: 2.0202%\n",
      "Log Loss: 33.8410233364\n",
      "==============================\n"
     ]
    }
   ],
   "source": [
    "model_selection()"
   ]
  },
  {
   "cell_type": "code",
   "execution_count": 43,
   "metadata": {},
   "outputs": [
    {
     "data": {
      "text/html": [
       "<div>\n",
       "<table border=\"1\" class=\"dataframe\">\n",
       "  <thead>\n",
       "    <tr style=\"text-align: right;\">\n",
       "      <th></th>\n",
       "      <th>Classifier</th>\n",
       "      <th>Accuracy</th>\n",
       "      <th>Log Loss</th>\n",
       "    </tr>\n",
       "  </thead>\n",
       "  <tbody>\n",
       "    <tr>\n",
       "      <th>0</th>\n",
       "      <td>KNeighborsClassifier</td>\n",
       "      <td>98.484848</td>\n",
       "      <td>0.097575</td>\n",
       "    </tr>\n",
       "    <tr>\n",
       "      <th>0</th>\n",
       "      <td>SVC</td>\n",
       "      <td>98.989899</td>\n",
       "      <td>4.647072</td>\n",
       "    </tr>\n",
       "    <tr>\n",
       "      <th>0</th>\n",
       "      <td>NuSVC</td>\n",
       "      <td>99.494949</td>\n",
       "      <td>2.366307</td>\n",
       "    </tr>\n",
       "    <tr>\n",
       "      <th>0</th>\n",
       "      <td>DecisionTreeClassifier</td>\n",
       "      <td>66.161616</td>\n",
       "      <td>11.687364</td>\n",
       "    </tr>\n",
       "    <tr>\n",
       "      <th>0</th>\n",
       "      <td>RandomForestClassifier</td>\n",
       "      <td>89.898990</td>\n",
       "      <td>0.971776</td>\n",
       "    </tr>\n",
       "    <tr>\n",
       "      <th>0</th>\n",
       "      <td>AdaBoostClassifier</td>\n",
       "      <td>4.545455</td>\n",
       "      <td>4.035779</td>\n",
       "    </tr>\n",
       "    <tr>\n",
       "      <th>0</th>\n",
       "      <td>GradientBoostingClassifier</td>\n",
       "      <td>58.080808</td>\n",
       "      <td>2.963248</td>\n",
       "    </tr>\n",
       "    <tr>\n",
       "      <th>0</th>\n",
       "      <td>GaussianNB</td>\n",
       "      <td>3.030303</td>\n",
       "      <td>33.492147</td>\n",
       "    </tr>\n",
       "    <tr>\n",
       "      <th>0</th>\n",
       "      <td>LinearDiscriminantAnalysis</td>\n",
       "      <td>98.989899</td>\n",
       "      <td>0.880529</td>\n",
       "    </tr>\n",
       "    <tr>\n",
       "      <th>0</th>\n",
       "      <td>QuadraticDiscriminantAnalysis</td>\n",
       "      <td>2.020202</td>\n",
       "      <td>33.841023</td>\n",
       "    </tr>\n",
       "  </tbody>\n",
       "</table>\n",
       "</div>"
      ],
      "text/plain": [
       "                      Classifier   Accuracy   Log Loss\n",
       "0           KNeighborsClassifier  98.484848   0.097575\n",
       "0                            SVC  98.989899   4.647072\n",
       "0                          NuSVC  99.494949   2.366307\n",
       "0         DecisionTreeClassifier  66.161616  11.687364\n",
       "0         RandomForestClassifier  89.898990   0.971776\n",
       "0             AdaBoostClassifier   4.545455   4.035779\n",
       "0     GradientBoostingClassifier  58.080808   2.963248\n",
       "0                     GaussianNB   3.030303  33.492147\n",
       "0     LinearDiscriminantAnalysis  98.989899   0.880529\n",
       "0  QuadraticDiscriminantAnalysis   2.020202  33.841023"
      ]
     },
     "execution_count": 43,
     "metadata": {},
     "output_type": "execute_result"
    }
   ],
   "source": [
    "log"
   ]
  },
  {
   "cell_type": "code",
   "execution_count": 44,
   "metadata": {},
   "outputs": [
    {
     "data": {
      "image/png": "[encoded data removed]",
      "text/plain": [
       "<matplotlib.figure.Figure at 0x7f30124e4510>"
      ]
     },
     "metadata": {},
     "output_type": "display_data"
    },
    {
     "data": {
      "image/png": "[encoded data removed]",
      "text/plain": [
       "<matplotlib.figure.Figure at 0x7f3012429b50>"
      ]
     },
     "metadata": {},
     "output_type": "display_data"
    }
   ],
   "source": [
    "sns.set_color_codes(\"muted\")\n",
    "sns.barplot(x='Accuracy', y='Classifier', data=log, color=\"b\")\n",
    "\n",
    "plt.xlabel('Accuracy %')\n",
    "plt.title('Classifier Accuracy')\n",
    "plt.show()\n",
    "\n",
    "sns.set_color_codes(\"muted\")\n",
    "sns.barplot(x='Log Loss', y='Classifier', data=log, color=\"g\")\n",
    "\n",
    "plt.xlabel('Log Loss')\n",
    "plt.title('Classifier Log Loss')\n",
    "plt.show()"
   ]
  },
  {
   "cell_type": "code",
   "execution_count": null,
   "metadata": {
    "collapsed": true
   },
   "outputs": [],
   "source": [
    "def submission():\n",
    "    favorite_clf = KNeighborsClassifier()\n",
    "    train, labels, test, test_ids, classes = get_data()\n",
    "    X_train = train.values\n",
    "    y_train = labels\n",
    "    favorite_clf.fit(X_train, y_train)\n",
    "\n",
    "    test_predictions = favorite_clf.predict_proba(test)\n",
    "    submission = pd.DataFrame(test_predictions, columns=classes)\n",
    "    submission.insert(0, 'id', test_ids)\n",
    "    submission.reset_index()\n",
    "\n",
    "    submission.to_csv('submission.csv', index = False)\n"
   ]
  }
 ],
 "metadata": {
  "kernelspec": {
   "display_name": "Python 2",
   "language": "python",
   "name": "python2"
  },
  "language_info": {
   "codemirror_mode": {
    "name": "ipython",
    "version": 2
   },
   "file_extension": ".py",
   "mimetype": "text/x-python",
   "name": "python",
   "nbconvert_exporter": "python",
   "pygments_lexer": "ipython2",
   "version": "2.7.12"
  }
 },
 "nbformat": 4,
 "nbformat_minor": 2
}
