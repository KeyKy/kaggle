{
 "cells": [
  {
   "cell_type": "code",
   "execution_count": 45,
   "metadata": {
    "collapsed": true
   },
   "outputs": [],
   "source": [
    "import matplotlib.pyplot as plt        # to plot any graph\n",
    "# matplotlib setup\n",
    "%matplotlib inline\n",
    "from pylab import rcParams\n",
    "rcParams['figure.figsize'] = (6, 6)      # setting default size of plots"
   ]
  },
  {
   "cell_type": "code",
   "execution_count": 46,
   "metadata": {
    "collapsed": true
   },
   "outputs": [],
   "source": [
    "import numpy as np\n",
    "import pandas as pd\n",
    "import seaborn as sns"
   ]
  },
  {
   "cell_type": "code",
   "execution_count": 47,
   "metadata": {
    "collapsed": true
   },
   "outputs": [],
   "source": [
    "from sklearn.preprocessing import LabelEncoder\n",
    "from sklearn.model_selection import StratifiedShuffleSplit\n",
    "from sklearn.metrics import accuracy_score, log_loss\n",
    "from sklearn import preprocessing\n",
    "\n",
    "from sklearn.svm import SVC, LinearSVC, NuSVC\n",
    "from sklearn.neighbors import KNeighborsClassifier\n",
    "from sklearn.tree import DecisionTreeClassifier\n",
    "from sklearn.ensemble import RandomForestClassifier, AdaBoostClassifier, GradientBoostingClassifier\n",
    "from sklearn.naive_bayes import GaussianNB\n",
    "from sklearn.discriminant_analysis import LinearDiscriminantAnalysis\n",
    "from sklearn.discriminant_analysis import QuadraticDiscriminantAnalysis\n",
    "from sklearn.linear_model import LogisticRegression\n",
    "\n",
    "classifiers = [\n",
    "    KNeighborsClassifier(),\n",
    "    SVC(kernel=\"rbf\", C=0.025, probability=True),\n",
    "    NuSVC(probability=True),\n",
    "    DecisionTreeClassifier(),\n",
    "    RandomForestClassifier(),\n",
    "    AdaBoostClassifier(),\n",
    "    GradientBoostingClassifier(),\n",
    "    GaussianNB(),\n",
    "    LinearDiscriminantAnalysis(),\n",
    "    QuadraticDiscriminantAnalysis(),\n",
    "    LogisticRegression(solver='newton-cg', multi_class='multinomial'),\n",
    "]"
   ]
  },
  {
   "cell_type": "code",
   "execution_count": 48,
   "metadata": {
    "collapsed": true
   },
   "outputs": [],
   "source": [
    "# Logging for Visual Comparison\n",
    "log_cols=[\"Classifier\", \"Accuracy\", \"Log Loss\"]\n",
    "log = pd.DataFrame(columns=log_cols)"
   ]
  },
  {
   "cell_type": "code",
   "execution_count": 49,
   "metadata": {
    "collapsed": true
   },
   "outputs": [],
   "source": [
    "def encode(train, test):\n",
    "    le = LabelEncoder().fit(train.species)\n",
    "    labels = le.transform(train.species)\n",
    "    classes = list(le.classes_)\n",
    "    test_ids = test.id\n",
    "\n",
    "    train = train.drop(['species', 'id'], axis=1)\n",
    "    test = test.drop(['id'], axis=1)\n",
    "\n",
    "    return train, labels, test, test_ids, classes\n",
    "\n",
    "def get_data():\n",
    "    train = pd.read_csv('./data/train.csv')\n",
    "    test = pd.read_csv('./data/test.csv')\n",
    "    train, labels, test, test_ids, classes = encode(train, test)\n",
    "    return train, labels, test, test_ids, classes\n",
    "\n",
    "def model_selection():\n",
    "    train, labels, test, test_ids, classes = get_data()\n",
    "    n_samples = len(train)\n",
    "\n",
    "    sss = StratifiedShuffleSplit(n_splits=1, test_size=0.2, random_state=0)\n",
    "    for train_index, val_index in sss.split(np.zeros(n_samples), labels):\n",
    "        X_train, X_val = train.values[train_index], train.values[val_index]\n",
    "        y_train, y_val = labels[train_index], labels[val_index]\n",
    "\n",
    "        X_train = preprocessing.scale(X_train)\n",
    "        X_val = preprocessing.scale(X_val)\n",
    "\n",
    "    for clf in classifiers:\n",
    "        clf.fit(X_train, y_train)\n",
    "        name = clf.__class__.__name__\n",
    "\n",
    "        print(\"=\"*30)\n",
    "        print(name)\n",
    "\n",
    "        print('****Results****')\n",
    "        train_predictions = clf.predict(X_val)\n",
    "        acc = accuracy_score(y_val, train_predictions)\n",
    "        print(\"Accuracy: {:.4%}\".format(acc))\n",
    "\n",
    "        prob_predictions = clf.predict_proba(X_val)\n",
    "        l1 = log_loss(y_val, prob_predictions)\n",
    "        print(\"Log Loss: {}\".format(l1))\n",
    "        \n",
    "        log_entry = pd.DataFrame([[name, acc*100, l1]], columns=log_cols)\n",
    "        global log \n",
    "        log = log.append(log_entry)\n",
    "\n",
    "    print(\"=\"*30)\n"
   ]
  },
  {
   "cell_type": "code",
   "execution_count": 50,
   "metadata": {},
   "outputs": [
    {
     "name": "stdout",
     "output_type": "stream",
     "text": [
      "==============================\n",
      "KNeighborsClassifier\n",
      "****Results****\n",
      "Accuracy: 98.4848%\n",
      "Log Loss: 0.0975752178626\n",
      "==============================\n",
      "SVC\n",
      "****Results****\n",
      "Accuracy: 98.9899%\n",
      "Log Loss: 4.64712659921\n",
      "==============================\n",
      "NuSVC\n",
      "****Results****\n",
      "Accuracy: 99.4949%\n",
      "Log Loss: 2.36562475338\n",
      "==============================\n",
      "DecisionTreeClassifier\n",
      "****Results****\n",
      "Accuracy: 67.6768%\n",
      "Log Loss: 11.1640489357\n",
      "==============================\n",
      "RandomForestClassifier\n",
      "****Results****\n",
      "Accuracy: 86.3636%\n",
      "Log Loss: 0.983487307813\n",
      "==============================\n",
      "AdaBoostClassifier\n",
      "****Results****\n",
      "Accuracy: 4.5455%\n",
      "Log Loss: 4.03577921421\n",
      "==============================\n",
      "GradientBoostingClassifier\n",
      "****Results****\n",
      "Accuracy: 57.5758%\n",
      "Log Loss: 2.97922466663\n",
      "==============================\n",
      "GaussianNB\n",
      "****Results****\n",
      "Accuracy: 3.0303%\n",
      "Log Loss: 33.4921468072\n",
      "==============================\n",
      "LinearDiscriminantAnalysis\n",
      "****Results****\n",
      "Accuracy: 98.9899%\n",
      "Log Loss: 0.880529186439\n",
      "==============================\n",
      "QuadraticDiscriminantAnalysis\n",
      "****Results****\n",
      "Accuracy: 2.0202%\n",
      "Log Loss: 33.8410233364\n",
      "==============================\n",
      "LogisticRegression\n",
      "****Results****\n",
      "Accuracy: 99.4949%\n",
      "Log Loss: 0.0754308925691\n",
      "==============================\n"
     ]
    }
   ],
   "source": [
    "model_selection()"
   ]
  },
  {
   "cell_type": "code",
   "execution_count": 51,
   "metadata": {},
   "outputs": [
    {
     "data": {
      "text/html": [
       "<div>\n",
       "<table border=\"1\" class=\"dataframe\">\n",
       "  <thead>\n",
       "    <tr style=\"text-align: right;\">\n",
       "      <th></th>\n",
       "      <th>Classifier</th>\n",
       "      <th>Accuracy</th>\n",
       "      <th>Log Loss</th>\n",
       "    </tr>\n",
       "  </thead>\n",
       "  <tbody>\n",
       "    <tr>\n",
       "      <th>0</th>\n",
       "      <td>KNeighborsClassifier</td>\n",
       "      <td>98.484848</td>\n",
       "      <td>0.097575</td>\n",
       "    </tr>\n",
       "    <tr>\n",
       "      <th>0</th>\n",
       "      <td>SVC</td>\n",
       "      <td>98.989899</td>\n",
       "      <td>4.647127</td>\n",
       "    </tr>\n",
       "    <tr>\n",
       "      <th>0</th>\n",
       "      <td>NuSVC</td>\n",
       "      <td>99.494949</td>\n",
       "      <td>2.365625</td>\n",
       "    </tr>\n",
       "    <tr>\n",
       "      <th>0</th>\n",
       "      <td>DecisionTreeClassifier</td>\n",
       "      <td>67.676768</td>\n",
       "      <td>11.164049</td>\n",
       "    </tr>\n",
       "    <tr>\n",
       "      <th>0</th>\n",
       "      <td>RandomForestClassifier</td>\n",
       "      <td>86.363636</td>\n",
       "      <td>0.983487</td>\n",
       "    </tr>\n",
       "    <tr>\n",
       "      <th>0</th>\n",
       "      <td>AdaBoostClassifier</td>\n",
       "      <td>4.545455</td>\n",
       "      <td>4.035779</td>\n",
       "    </tr>\n",
       "    <tr>\n",
       "      <th>0</th>\n",
       "      <td>GradientBoostingClassifier</td>\n",
       "      <td>57.575758</td>\n",
       "      <td>2.979225</td>\n",
       "    </tr>\n",
       "    <tr>\n",
       "      <th>0</th>\n",
       "      <td>GaussianNB</td>\n",
       "      <td>3.030303</td>\n",
       "      <td>33.492147</td>\n",
       "    </tr>\n",
       "    <tr>\n",
       "      <th>0</th>\n",
       "      <td>LinearDiscriminantAnalysis</td>\n",
       "      <td>98.989899</td>\n",
       "      <td>0.880529</td>\n",
       "    </tr>\n",
       "    <tr>\n",
       "      <th>0</th>\n",
       "      <td>QuadraticDiscriminantAnalysis</td>\n",
       "      <td>2.020202</td>\n",
       "      <td>33.841023</td>\n",
       "    </tr>\n",
       "    <tr>\n",
       "      <th>0</th>\n",
       "      <td>LogisticRegression</td>\n",
       "      <td>99.494949</td>\n",
       "      <td>0.075431</td>\n",
       "    </tr>\n",
       "  </tbody>\n",
       "</table>\n",
       "</div>"
      ],
      "text/plain": [
       "                      Classifier   Accuracy   Log Loss\n",
       "0           KNeighborsClassifier  98.484848   0.097575\n",
       "0                            SVC  98.989899   4.647127\n",
       "0                          NuSVC  99.494949   2.365625\n",
       "0         DecisionTreeClassifier  67.676768  11.164049\n",
       "0         RandomForestClassifier  86.363636   0.983487\n",
       "0             AdaBoostClassifier   4.545455   4.035779\n",
       "0     GradientBoostingClassifier  57.575758   2.979225\n",
       "0                     GaussianNB   3.030303  33.492147\n",
       "0     LinearDiscriminantAnalysis  98.989899   0.880529\n",
       "0  QuadraticDiscriminantAnalysis   2.020202  33.841023\n",
       "0             LogisticRegression  99.494949   0.075431"
      ]
     },
     "execution_count": 51,
     "metadata": {},
     "output_type": "execute_result"
    }
   ],
   "source": [
    "log"
   ]
  },
  {
   "cell_type": "code",
   "execution_count": 52,
   "metadata": {},
   "outputs": [
    {
     "data": {
      "image/png": "[encoded data removed]",
      "text/plain": [
       "<matplotlib.figure.Figure at 0x7f300f49ff90>"
      ]
     },
     "metadata": {},
     "output_type": "display_data"
    },
    {
     "data": {
      "image/png": "[encoded data removed]",
      "text/plain": [
       "<matplotlib.figure.Figure at 0x7f300f46ced0>"
      ]
     },
     "metadata": {},
     "output_type": "display_data"
    }
   ],
   "source": [
    "sns.set_color_codes(\"muted\")\n",
    "sns.barplot(x='Accuracy', y='Classifier', data=log, color=\"b\")\n",
    "\n",
    "plt.xlabel('Accuracy %')\n",
    "plt.title('Classifier Accuracy')\n",
    "plt.show()\n",
    "\n",
    "sns.set_color_codes(\"muted\")\n",
    "sns.barplot(x='Log Loss', y='Classifier', data=log, color=\"g\")\n",
    "\n",
    "plt.xlabel('Log Loss')\n",
    "plt.title('Classifier Log Loss')\n",
    "plt.show()"
   ]
  },
  {
   "cell_type": "code",
   "execution_count": null,
   "metadata": {
    "collapsed": true
   },
   "outputs": [],
   "source": [
    "def submission():\n",
    "    favorite_clf = KNeighborsClassifier()\n",
    "    train, labels, test, test_ids, classes = get_data()\n",
    "    X_train = train.values\n",
    "    y_train = labels\n",
    "    favorite_clf.fit(X_train, y_train)\n",
    "\n",
    "    test_predictions = favorite_clf.predict_proba(test)\n",
    "    submission = pd.DataFrame(test_predictions, columns=classes)\n",
    "    submission.insert(0, 'id', test_ids)\n",
    "    submission.reset_index()\n",
    "\n",
    "    submission.to_csv('submission.csv', index = False)\n"
   ]
  }
 ],
 "metadata": {
  "kernelspec": {
   "display_name": "Python 2",
   "language": "python",
   "name": "python2"
  },
  "language_info": {
   "codemirror_mode": {
    "name": "ipython",
    "version": 2
   },
   "file_extension": ".py",
   "mimetype": "text/x-python",
   "name": "python",
   "nbconvert_exporter": "python",
   "pygments_lexer": "ipython2",
   "version": "2.7.12"
  }
 },
 "nbformat": 4,
 "nbformat_minor": 2
}
